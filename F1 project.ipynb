{
 "cells": [
  {
   "cell_type": "code",
   "execution_count": 11,
   "id": "d048a48a-bb13-44a9-a277-271d13349b2f",
   "metadata": {},
   "outputs": [
    {
     "name": "stdout",
     "output_type": "stream",
     "text": [
      "Predicted Position: 9.058699673383853\n"
     ]
    }
   ],
   "source": [
    "import joblib\n",
    "import pandas as pd\n",
    "\n",
    "# Load the saved feature columns and model\n",
    "feature_columns = joblib.load('feature_columns.pkl')\n",
    "loaded_model = joblib.load('gradient_boosting_f1_model.pkl')\n",
    "\n",
    "# Define a new test input\n",
    "test_input_data = {\n",
    "    'Season': 2023,\n",
    "    'Points': 15,\n",
    "    'Laps': 60,\n",
    "    'Average_Position': 5,\n",
    "    'Best_Position': 2,\n",
    "    'Temperature_C': 25.0,\n",
    "    'Wind_Speed_kmh': 10.0,\n",
    "    'Weather_Description': 'Clear',  # Adjust as necessary\n",
    "}\n",
    "test_input = pd.DataFrame([test_input_data])\n",
    "\n",
    "# Preprocess and ensure correct columns\n",
    "test_input_encoded = pd.get_dummies(test_input, drop_first=True).reindex(columns=feature_columns, fill_value=0)\n",
    "\n",
    "# Convert to NumPy array before prediction\n",
    "prediction = loaded_model.predict(test_input_encoded.to_numpy())\n",
    "print(\"Predicted Position:\", prediction[0])\n"
   ]
  },
  {
   "cell_type": "code",
   "execution_count": 24,
   "id": "fea20823-37f7-45d3-b1cb-37e9c9eaa7c4",
   "metadata": {},
   "outputs": [
    {
     "name": "stdout",
     "output_type": "stream",
     "text": [
      "Predicted Position for Sample 1: 4.069647330645265\n",
      "Predicted Position for Sample 2: 4.069647330645265\n",
      "Predicted Position for Sample 3: 8.676466516386958\n"
     ]
    }
   ],
   "source": [
    "import joblib\n",
    "import pandas as pd\n",
    "from sklearn.impute import SimpleImputer\n",
    "\n",
    "# Load the trained model\n",
    "loaded_model = joblib.load('gradient_boosting_f1_model.pkl')\n",
    "\n",
    "# Load the feature columns\n",
    "feature_columns = joblib.load('feature_columns.pkl')\n",
    "\n",
    "# Define new test samples\n",
    "test_samples = [\n",
    "    {'Points': 120, 'Laps': 58, 'Season': 2023, 'Points_Laps': 6960, 'Points_Season': 242760, 'Best_Position_Points': 120, 'Driver_Verstappen': 1},\n",
    "    {'Points': 100, 'Laps': 60, 'Season': 2022, 'Points_Laps': 6000, 'Points_Season': 200000, 'Best_Position_Points': 80, 'Driver_Hamilton': 1},\n",
    "    {'Points': 0, 'Laps': 50, 'Season': 2020, 'Points_Laps': 0, 'Points_Season': 0, 'Best_Position_Points': 0, 'Driver_Alonso': 1}\n",
    "]\n",
    "\n",
    "additional_test_data = pd.DataFrame(test_samples)\n",
    "\n",
    "# Handle missing values\n",
    "imputer = SimpleImputer(strategy=\"mean\")  # Replace 'mean' with the strategy used during training\n",
    "additional_test_data_imputed = pd.DataFrame(\n",
    "    imputer.fit_transform(additional_test_data),\n",
    "    columns=additional_test_data.columns\n",
    ")\n",
    "\n",
    "# Preprocess the new samples\n",
    "additional_test_encoded = pd.get_dummies(additional_test_data_imputed, drop_first=True).reindex(columns=feature_columns, fill_value=0)\n",
    "\n",
    "# Predict for each sample\n",
    "additional_predictions = loaded_model.predict(additional_test_encoded.to_numpy())\n",
    "\n",
    "# Print predictions\n",
    "for i, prediction in enumerate(additional_predictions, start=1):\n",
    "    print(f\"Predicted Position for Sample {i}: {prediction}\")\n"
   ]
  },
  {
   "cell_type": "code",
   "execution_count": 26,
   "id": "9ba48a5f-3d90-4038-b765-312f040bf342",
   "metadata": {},
   "outputs": [],
   "source": [
    "joblib.dump(imputer, 'imputer.pkl')\n",
    "imputer = joblib.load('imputer.pkl')\n"
   ]
  },
  {
   "cell_type": "code",
   "execution_count": 1,
   "id": "135b9073-66a4-4364-855c-13fb1db74260",
   "metadata": {},
   "outputs": [
    {
     "name": "stdout",
     "output_type": "stream",
     "text": [
      "Requirement already satisfied: flask in c:\\users\\asus\\anaconda3\\lib\\site-packages (3.0.3)\n",
      "Requirement already satisfied: Werkzeug>=3.0.0 in c:\\users\\asus\\anaconda3\\lib\\site-packages (from flask) (3.0.3)\n",
      "Requirement already satisfied: Jinja2>=3.1.2 in c:\\users\\asus\\anaconda3\\lib\\site-packages (from flask) (3.1.4)\n",
      "Requirement already satisfied: itsdangerous>=2.1.2 in c:\\users\\asus\\anaconda3\\lib\\site-packages (from flask) (2.2.0)\n",
      "Requirement already satisfied: click>=8.1.3 in c:\\users\\asus\\anaconda3\\lib\\site-packages (from flask) (8.1.7)\n",
      "Requirement already satisfied: blinker>=1.6.2 in c:\\users\\asus\\anaconda3\\lib\\site-packages (from flask) (1.6.2)\n",
      "Requirement already satisfied: colorama in c:\\users\\asus\\anaconda3\\lib\\site-packages (from click>=8.1.3->flask) (0.4.6)\n",
      "Requirement already satisfied: MarkupSafe>=2.0 in c:\\users\\asus\\anaconda3\\lib\\site-packages (from Jinja2>=3.1.2->flask) (2.1.3)\n",
      "Note: you may need to restart the kernel to use updated packages.\n"
     ]
    }
   ],
   "source": [
    "pip install flask"
   ]
  },
  {
   "cell_type": "code",
   "execution_count": null,
   "id": "88a4cbee-90e1-4ac7-8bb9-d9c37580dde7",
   "metadata": {},
   "outputs": [],
   "source": []
  }
 ],
 "metadata": {
  "kernelspec": {
   "display_name": "Python 3 (ipykernel)",
   "language": "python",
   "name": "python3"
  },
  "language_info": {
   "codemirror_mode": {
    "name": "ipython",
    "version": 3
   },
   "file_extension": ".py",
   "mimetype": "text/x-python",
   "name": "python",
   "nbconvert_exporter": "python",
   "pygments_lexer": "ipython3",
   "version": "3.12.7"
  }
 },
 "nbformat": 4,
 "nbformat_minor": 5
}
